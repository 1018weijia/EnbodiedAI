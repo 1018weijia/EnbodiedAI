{
 "cells": [
  {
   "cell_type": "code",
   "execution_count": 1,
   "metadata": {},
   "outputs": [
    {
     "name": "stdout",
     "output_type": "stream",
     "text": [
      "{'sim': {'device': 0, 'physics_frequency': 60, 'render_frequency': 60, 'hide_ui': False}, 'scene': {'scene_file': 'D://MMLM_Robot//Grasp_Nav//code//EmbodiedAI//simulator//tests//test_scene//test_scene.json'}, 'task': {'type': 'dummy_task', 'robots': [{'type': 'jetbot', 'prim_path': '/World/Robot_0', 'create_robot': True, 'position': [1.0, 0.5, 1.0], 'scale': [5.0, 5.0, 5.0], 'controller': [{'type': 'dd_controller', 'input_limit': 'default', 'out_limit': 'default'}]}]}}\n",
      "{'name': 'default', 'sim': {'name': None, 'height': 720, 'width': 1280, 'device': 0, 'physics_frequency': 60, 'render_frequency': 60, 'rendering_interval': None, 'headless': True, 'hide_ui': False}, 'scene': {'name': None, 'scene_file': 'D://MMLM_Robot//Grasp_Nav//code//EmbodiedAI//simulator//tests//test_scene//test_scene.json', 'use_floor_plane': True, 'floor_plane_visible': True, 'use_sky_box': True}, 'task': {'name': None, 'type': 'dummy_task', 'robots': [{'type': 'jetbot', 'prim_path': '/World/Robot_0', 'create_robot': True, 'position': [1.0, 0.5, 1.0], 'scale': [5.0, 5.0, 5.0], 'controller': [{'type': 'dd_controller', 'input_limit': 'default', 'out_limit': 'default'}]}], 'objects': [], 'metrics': [], 'offset': None}, 'npcs': [{'name': None}]}\n",
      "name='default' sim=SimulatorConfig(name=None, height=720, width=1280, device=0, physics_frequency=60.0, render_frequency=60.0, rendering_interval=None, headless=True, hide_ui=False) scene=SceneConfig(name=None, scene_file='D://MMLM_Robot//Grasp_Nav//code//EmbodiedAI//simulator//tests//test_scene//test_scene.json', use_floor_plane=True, floor_plane_visible=True, use_sky_box=True) task=TaskConfig(name=None, type='dummy_task', robots=[RobotConfig(name=None, type='jetbot', prim_path='/World/Robot_0', create_robot=True, position=[1.0, 0.5, 1.0], orientation=[0.0, 0.0, 0.0, 1.0], scale=[5.0, 5.0, 5.0], controller=[ControllerConfig(name=None, type='dd_controller', input_limit='default', output_limit='default')], sensor=None)], objects=[], metrics=[], offset=None) npcs=[NPCConfig(name=None)]\n",
      "Starting kit application with the following args:  ['D:\\\\10916\\\\Documents\\\\AppData\\\\Local\\\\ov\\\\pkg\\\\isaac-sim-4.0.0\\\\exts\\\\omni.isaac.kit\\\\omni\\\\isaac\\\\kit\\\\simulation_app.py', 'D:\\\\10916\\\\Documents\\\\AppData\\\\Local\\\\ov\\\\pkg\\\\isaac-sim-4.0.0\\\\apps/omni.isaac.sim.python.kit', '--/app/tokens/exe-path=D:\\\\10916\\\\Documents\\\\AppData\\\\Local\\\\ov\\\\pkg\\\\isaac-sim-4.0.0\\\\kit', '--/persistent/app/viewport/displayOptions=3094', '--/rtx/materialDb/syncLoads=True', '--/rtx/hydra/materialSyncLoads=True', '--/omni.kit.plugin/syncUsdLoads=True', '--/app/renderer/resolution/width=1280', '--/app/renderer/resolution/height=720', '--/app/window/width=1440', '--/app/window/height=900', '--/renderer/multiGpu/enabled=True', '--/app/fastShutdown=True', '--ext-folder', 'D:\\\\10916\\\\Documents\\\\AppData\\\\Local\\\\ov\\\\pkg\\\\isaac-sim-4.0.0/exts', '--ext-folder', 'D:\\\\10916\\\\Documents\\\\AppData\\\\Local\\\\ov\\\\pkg\\\\isaac-sim-4.0.0/apps', '--/renderer/activeGpu=0', '--/physics/cudaDevice=0', '--portable', '--no-window', '--/app/window/hideUi=1']\n",
      "Passing the following args to the base kit application:  ['--f=c:\\\\Users\\\\10916\\\\AppData\\\\Roaming\\\\jupyter\\\\runtime\\\\kernel-v2-29184m2L0HwORIHK4.json']\n",
      "ViewportTransformManipulatorExt on_startup\n",
      "Warp 1.1.0 initialized:\n",
      "   CUDA Toolkit 11.5, Driver 12.4\n",
      "   Devices:\n",
      "     \"cpu\"      : \"AMD64 Family 25 Model 80 Stepping 0, AuthenticAMD\"\n",
      "     \"cuda:0\"   : \"NVIDIA GeForce RTX 3060 Laptop GPU\" (6 GiB, sm_86, mempool enabled)\n",
      "   Kernel cache:\n",
      "     C:\\Users\\10916\\AppData\\Local\\NVIDIA\\warp\\Cache\\1.1.0\n"
     ]
    },
    {
     "ename": "AttributeError",
     "evalue": "'_WindowsSelectorEventLoop' object has no attribute '_old_agen_hooks'",
     "output_type": "error",
     "traceback": [
      "\u001b[1;31m---------------------------------------------------------------------------\u001b[0m",
      "\u001b[1;31mRuntimeError\u001b[0m                              Traceback (most recent call last)",
      "File \u001b[1;32md:/10916/documents/appdata/local/ov/pkg/isaac-sim-4.0.0/kit/extscore/omni.kit.async_engine/omni/kit/async_engine/async_engine.py:113\u001b[0m, in \u001b[0;36m_AsyncEngineDriver._patch_event_loop.<locals>.run_forever\u001b[1;34m(self)\u001b[0m\n\u001b[0;32m    112\u001b[0m \u001b[38;5;28;01mtry\u001b[39;00m:\n\u001b[1;32m--> 113\u001b[0m     \u001b[38;5;28;43mself\u001b[39;49m\u001b[38;5;241;43m.\u001b[39;49m\u001b[43m_run_forever_setup\u001b[49m\u001b[43m(\u001b[49m\u001b[43m)\u001b[49m\n\u001b[0;32m    114\u001b[0m     \u001b[38;5;28;01mwhile\u001b[39;00m \u001b[38;5;28;01mTrue\u001b[39;00m:\n",
      "File \u001b[1;32md:/10916/documents/appdata/local/ov/pkg/isaac-sim-4.0.0/kit/extscore/omni.kit.async_engine/omni/kit/async_engine/async_engine.py:75\u001b[0m, in \u001b[0;36m_AsyncEngineDriver._patch_event_loop.<locals>._run_forever_setup\u001b[1;34m(self)\u001b[0m\n\u001b[0;32m     74\u001b[0m \u001b[38;5;28mself\u001b[39m\u001b[38;5;241m.\u001b[39m_check_closed()\n\u001b[1;32m---> 75\u001b[0m \u001b[38;5;28;43mself\u001b[39;49m\u001b[38;5;241;43m.\u001b[39;49m\u001b[43m_check_running\u001b[49m\u001b[43m(\u001b[49m\u001b[43m)\u001b[49m\n\u001b[0;32m     76\u001b[0m \u001b[38;5;28mself\u001b[39m\u001b[38;5;241m.\u001b[39m_set_coroutine_origin_tracking(\u001b[38;5;28mself\u001b[39m\u001b[38;5;241m.\u001b[39m_debug)\n",
      "File \u001b[1;32md:\\Users\\10916\\anaconda3\\envs\\isaacsim\\lib\\asyncio\\base_events.py:584\u001b[0m, in \u001b[0;36mBaseEventLoop._check_running\u001b[1;34m(self)\u001b[0m\n\u001b[0;32m    583\u001b[0m \u001b[38;5;28;01mif\u001b[39;00m \u001b[38;5;28mself\u001b[39m\u001b[38;5;241m.\u001b[39mis_running():\n\u001b[1;32m--> 584\u001b[0m     \u001b[38;5;28;01mraise\u001b[39;00m \u001b[38;5;167;01mRuntimeError\u001b[39;00m(\u001b[38;5;124m'\u001b[39m\u001b[38;5;124mThis event loop is already running\u001b[39m\u001b[38;5;124m'\u001b[39m)\n\u001b[0;32m    585\u001b[0m \u001b[38;5;28;01mif\u001b[39;00m events\u001b[38;5;241m.\u001b[39m_get_running_loop() \u001b[38;5;129;01mis\u001b[39;00m \u001b[38;5;129;01mnot\u001b[39;00m \u001b[38;5;28;01mNone\u001b[39;00m:\n",
      "\u001b[1;31mRuntimeError\u001b[0m: This event loop is already running",
      "\nDuring handling of the above exception, another exception occurred:\n",
      "\u001b[1;31mAttributeError\u001b[0m                            Traceback (most recent call last)",
      "File \u001b[1;32md:/10916/documents/appdata/local/ov/pkg/isaac-sim-4.0.0/kit/extscore/omni.kit.async_engine/omni/kit/async_engine/async_engine.py:251\u001b[0m, in \u001b[0;36m_AsyncEngineDriver.on_startup.<locals>.<lambda>\u001b[1;34m(*args)\u001b[0m\n\u001b[0;32m    245\u001b[0m settings\u001b[38;5;241m.\u001b[39mset_default(\u001b[38;5;124m\"\u001b[39m\u001b[38;5;124m/exts/omni.kit.async_engine/updateSubscriptionOrder\u001b[39m\u001b[38;5;124m\"\u001b[39m,\n\u001b[0;32m    246\u001b[0m     omni\u001b[38;5;241m.\u001b[39mkit\u001b[38;5;241m.\u001b[39mapp\u001b[38;5;241m.\u001b[39mUPDATE_ORDER_PYTHON_EXEC_END_UPDATE)\n\u001b[0;32m    248\u001b[0m update_subscription_order \u001b[38;5;241m=\u001b[39m settings\u001b[38;5;241m.\u001b[39mget(\u001b[38;5;124m\"\u001b[39m\u001b[38;5;124m/exts/omni.kit.async_engine/updateSubscriptionOrder\u001b[39m\u001b[38;5;124m\"\u001b[39m)\n\u001b[0;32m    250\u001b[0m \u001b[38;5;28mself\u001b[39m\u001b[38;5;241m.\u001b[39m_update_end_sub \u001b[38;5;241m=\u001b[39m app\u001b[38;5;241m.\u001b[39mget_update_event_stream()\u001b[38;5;241m.\u001b[39mcreate_subscription_to_pop(\n\u001b[1;32m--> 251\u001b[0m     \u001b[38;5;28;01mlambda\u001b[39;00m \u001b[38;5;241m*\u001b[39margs: \u001b[38;5;28;43mself\u001b[39;49m\u001b[38;5;241;43m.\u001b[39;49m\u001b[43m_loop\u001b[49m\u001b[38;5;241;43m.\u001b[39;49m\u001b[43mrun_once\u001b[49m\u001b[43m(\u001b[49m\u001b[43m)\u001b[49m,\n\u001b[0;32m    252\u001b[0m     order\u001b[38;5;241m=\u001b[39mupdate_subscription_order,\n\u001b[0;32m    253\u001b[0m     name\u001b[38;5;241m=\u001b[39m\u001b[38;5;124m\"\u001b[39m\u001b[38;5;124m[ext: omni.async_engine] AsyncEngineDriver::EndUpdate\u001b[39m\u001b[38;5;124m\"\u001b[39m\n\u001b[0;32m    254\u001b[0m )\n\u001b[0;32m    256\u001b[0m \u001b[38;5;250m\u001b[39m\u001b[38;5;124;03m'''\u001b[39;00m\n\u001b[0;32m    257\u001b[0m \u001b[38;5;124;03mCurrently disabled until we update carb_sdk to better handle new subscriptions\u001b[39;00m\n\u001b[0;32m    258\u001b[0m \u001b[38;5;124;03mwhile in the middle of processing pump of that event stream\u001b[39;00m\n\u001b[1;32m   (...)\u001b[0m\n\u001b[0;32m    270\u001b[0m \u001b[38;5;124;03m)\u001b[39;00m\n\u001b[0;32m    271\u001b[0m \u001b[38;5;124;03m'''\u001b[39;00m\n\u001b[0;32m    273\u001b[0m MainEventLoopWrapper\u001b[38;5;241m.\u001b[39mg_main_event_loop \u001b[38;5;241m=\u001b[39m \u001b[38;5;28mself\u001b[39m\u001b[38;5;241m.\u001b[39m_loop\n",
      "File \u001b[1;32md:/10916/documents/appdata/local/ov/pkg/isaac-sim-4.0.0/kit/extscore/omni.kit.async_engine/omni/kit/async_engine/async_engine.py:208\u001b[0m, in \u001b[0;36m_AsyncEngineDriver._patch_event_loop.<locals>.run_once\u001b[1;34m(self)\u001b[0m\n\u001b[0;32m    206\u001b[0m \u001b[38;5;28;01mwhile\u001b[39;00m \u001b[38;5;28;01mTrue\u001b[39;00m:\n\u001b[0;32m    207\u001b[0m     \u001b[38;5;28mself\u001b[39m\u001b[38;5;241m.\u001b[39mstop()\n\u001b[1;32m--> 208\u001b[0m     \u001b[38;5;28;43mself\u001b[39;49m\u001b[38;5;241;43m.\u001b[39;49m\u001b[43mrun_forever\u001b[49m\u001b[43m(\u001b[49m\u001b[43m)\u001b[49m\n\u001b[0;32m    210\u001b[0m     \u001b[38;5;66;03m# The proactor loop always has the self_reading_future event, so <= 1\u001b[39;00m\n\u001b[0;32m    211\u001b[0m     \u001b[38;5;28;01mif\u001b[39;00m \u001b[38;5;129;01mnot\u001b[39;00m \u001b[38;5;28mself\u001b[39m\u001b[38;5;241m.\u001b[39m_loop_until_done \u001b[38;5;129;01mor\u001b[39;00m (\u001b[38;5;28mlen\u001b[39m(\u001b[38;5;28mself\u001b[39m\u001b[38;5;241m.\u001b[39m_ready) \u001b[38;5;241m<\u001b[39m\u001b[38;5;241m=\u001b[39m \u001b[38;5;241m1\u001b[39m \u001b[38;5;28;01mif\u001b[39;00m \u001b[38;5;28mself\u001b[39m\u001b[38;5;241m.\u001b[39m_is_proactor \u001b[38;5;28;01melse\u001b[39;00m \u001b[38;5;129;01mnot\u001b[39;00m \u001b[38;5;28mself\u001b[39m\u001b[38;5;241m.\u001b[39m_ready):\n",
      "File \u001b[1;32md:/10916/documents/appdata/local/ov/pkg/isaac-sim-4.0.0/kit/extscore/omni.kit.async_engine/omni/kit/async_engine/async_engine.py:119\u001b[0m, in \u001b[0;36m_AsyncEngineDriver._patch_event_loop.<locals>.run_forever\u001b[1;34m(self)\u001b[0m\n\u001b[0;32m    117\u001b[0m             \u001b[38;5;28;01mbreak\u001b[39;00m\n\u001b[0;32m    118\u001b[0m \u001b[38;5;28;01mfinally\u001b[39;00m:\n\u001b[1;32m--> 119\u001b[0m     \u001b[38;5;28;43mself\u001b[39;49m\u001b[38;5;241;43m.\u001b[39;49m\u001b[43m_run_forever_cleanup\u001b[49m\u001b[43m(\u001b[49m\u001b[43m)\u001b[49m\n",
      "File \u001b[1;32md:/10916/documents/appdata/local/ov/pkg/isaac-sim-4.0.0/kit/extscore/omni.kit.async_engine/omni/kit/async_engine/async_engine.py:93\u001b[0m, in \u001b[0;36m_AsyncEngineDriver._patch_event_loop.<locals>._run_forever_cleanup\u001b[1;34m(self)\u001b[0m\n\u001b[0;32m     91\u001b[0m events\u001b[38;5;241m.\u001b[39m_set_running_loop(\u001b[38;5;28;01mNone\u001b[39;00m)\n\u001b[0;32m     92\u001b[0m \u001b[38;5;28mself\u001b[39m\u001b[38;5;241m.\u001b[39m_set_coroutine_origin_tracking(\u001b[38;5;28;01mFalse\u001b[39;00m)\n\u001b[1;32m---> 93\u001b[0m \u001b[38;5;28;01mif\u001b[39;00m \u001b[38;5;28;43mself\u001b[39;49m\u001b[38;5;241;43m.\u001b[39;49m\u001b[43m_old_agen_hooks\u001b[49m \u001b[38;5;129;01mis\u001b[39;00m \u001b[38;5;129;01mnot\u001b[39;00m \u001b[38;5;28;01mNone\u001b[39;00m:\n\u001b[0;32m     94\u001b[0m     sys\u001b[38;5;241m.\u001b[39mset_asyncgen_hooks(\u001b[38;5;241m*\u001b[39m\u001b[38;5;28mself\u001b[39m\u001b[38;5;241m.\u001b[39m_old_agen_hooks)\n\u001b[0;32m     95\u001b[0m     \u001b[38;5;28mself\u001b[39m\u001b[38;5;241m.\u001b[39m_old_agen_hooks \u001b[38;5;241m=\u001b[39m \u001b[38;5;28;01mNone\u001b[39;00m\n",
      "\u001b[1;31mAttributeError\u001b[0m: '_WindowsSelectorEventLoop' object has no attribute '_old_agen_hooks'"
     ]
    },
    {
     "name": "stderr",
     "output_type": "stream",
     "text": [
      "D:\\10916\\Documents\\AppData\\Local\\ov\\pkg\\isaac-sim-4.0.0/exts/omni.isaac.kit\\omni\\isaac\\kit\\simulation_app.py:431: RuntimeWarning: coroutine 'MaterialUIExtensions.__init__.<locals>.add_menus' was never awaited\n",
      "  self._app.update()\n",
      "RuntimeWarning: Enable tracemalloc to get the object allocation traceback\n",
      "D:\\10916\\Documents\\AppData\\Local\\ov\\pkg\\isaac-sim-4.0.0/exts/omni.isaac.kit\\omni\\isaac\\kit\\simulation_app.py:431: RuntimeWarning: coroutine '_DockingDelegate.wait_for_window' was never awaited\n",
      "  self._app.update()\n",
      "RuntimeWarning: Enable tracemalloc to get the object allocation traceback\n",
      "D:\\10916\\Documents\\AppData\\Local\\ov\\pkg\\isaac-sim-4.0.0/exts/omni.isaac.kit\\omni\\isaac\\kit\\simulation_app.py:431: RuntimeWarning: coroutine 'DetailView._build_detail_frames.<locals>.build_frame_async' was never awaited\n",
      "  self._app.update()\n",
      "RuntimeWarning: Enable tracemalloc to get the object allocation traceback\n",
      "D:\\10916\\Documents\\AppData\\Local\\ov\\pkg\\isaac-sim-4.0.0/exts/omni.isaac.kit\\omni\\isaac\\kit\\simulation_app.py:431: RuntimeWarning: coroutine 'autoload_extensions' was never awaited\n",
      "  self._app.update()\n",
      "RuntimeWarning: Enable tracemalloc to get the object allocation traceback\n",
      "D:\\10916\\Documents\\AppData\\Local\\ov\\pkg\\isaac-sim-4.0.0/exts/omni.isaac.kit\\omni\\isaac\\kit\\simulation_app.py:431: RuntimeWarning: coroutine 'ManipulatorBase._delayed_register.<locals>.register_manipulator' was never awaited\n",
      "  self._app.update()\n",
      "RuntimeWarning: Enable tracemalloc to get the object allocation traceback\n",
      "D:\\10916\\Documents\\AppData\\Local\\ov\\pkg\\isaac-sim-4.0.0/exts/omni.isaac.kit\\omni\\isaac\\kit\\simulation_app.py:431: RuntimeWarning: coroutine 'delayed_material_list_refresh' was never awaited\n",
      "  self._app.update()\n",
      "RuntimeWarning: Enable tracemalloc to get the object allocation traceback\n",
      "D:\\10916\\Documents\\AppData\\Local\\ov\\pkg\\isaac-sim-4.0.0/exts/omni.isaac.kit\\omni\\isaac\\kit\\simulation_app.py:431: RuntimeWarning: coroutine 'ReplicatorYAMLExtension._autorun' was never awaited\n",
      "  self._app.update()\n",
      "RuntimeWarning: Enable tracemalloc to get the object allocation traceback\n",
      "D:\\10916\\Documents\\AppData\\Local\\ov\\pkg\\isaac-sim-4.0.0/exts/omni.isaac.kit\\omni\\isaac\\kit\\simulation_app.py:431: RuntimeWarning: coroutine 'RendererMenuContainer.__dirty_renderers.<locals>.update_render_list' was never awaited\n",
      "  self._app.update()\n",
      "RuntimeWarning: Enable tracemalloc to get the object allocation traceback\n"
     ]
    },
    {
     "ename": "ModuleNotFoundError",
     "evalue": "No module named 'omni.isaac.core.worlds'",
     "output_type": "error",
     "traceback": [
      "\u001b[1;31m---------------------------------------------------------------------------\u001b[0m",
      "\u001b[1;31mModuleNotFoundError\u001b[0m                       Traceback (most recent call last)",
      "Cell \u001b[1;32mIn[1], line 7\u001b[0m\n\u001b[0;32m      5\u001b[0m cfg \u001b[38;5;241m=\u001b[39m EnvConfig(config_file)\n\u001b[0;32m      6\u001b[0m \u001b[38;5;28mprint\u001b[39m(cfg\u001b[38;5;241m.\u001b[39mconfig)\n\u001b[1;32m----> 7\u001b[0m env \u001b[38;5;241m=\u001b[39m \u001b[43mBaseEnv\u001b[49m\u001b[43m(\u001b[49m\u001b[43mcfg\u001b[49m\u001b[43m)\u001b[49m\n",
      "File \u001b[1;32md:\\mmlm_robot\\grasp_nav\\code\\embodiedai\\simulator\\core\\envs\\env_base.py:7\u001b[0m, in \u001b[0;36mBaseEnv.__init__\u001b[1;34m(self, configs)\u001b[0m\n\u001b[0;32m      5\u001b[0m \u001b[38;5;28;01mdef\u001b[39;00m \u001b[38;5;21m__init__\u001b[39m(\u001b[38;5;28mself\u001b[39m, configs:EnvConfig):\n\u001b[0;32m      6\u001b[0m     \u001b[38;5;28mself\u001b[39m\u001b[38;5;241m.\u001b[39mconfigs \u001b[38;5;241m=\u001b[39m configs\u001b[38;5;241m.\u001b[39mconfig\n\u001b[1;32m----> 7\u001b[0m     \u001b[38;5;28mself\u001b[39m\u001b[38;5;241m.\u001b[39msim  \u001b[38;5;241m=\u001b[39m \u001b[43mSimulator\u001b[49m\u001b[43m(\u001b[49m\u001b[38;5;28;43mself\u001b[39;49m\u001b[38;5;241;43m.\u001b[39;49m\u001b[43mconfigs\u001b[49m\u001b[38;5;241;43m.\u001b[39;49m\u001b[43msim\u001b[49m\u001b[43m)\u001b[49m\n\u001b[0;32m      8\u001b[0m     \u001b[38;5;28mself\u001b[39m\u001b[38;5;241m.\u001b[39mreset()\n",
      "File \u001b[1;32md:\\mmlm_robot\\grasp_nav\\code\\embodiedai\\simulator\\core\\simulator.py:64\u001b[0m, in \u001b[0;36mSimulator.__init__\u001b[1;34m(self, config, webrtc, native)\u001b[0m\n\u001b[0;32m     61\u001b[0m     log\u001b[38;5;241m.\u001b[39merror(\u001b[38;5;124m\"\u001b[39m\u001b[38;5;124mCan not lanuch isaac sim app.\u001b[39m\u001b[38;5;124m\"\u001b[39m)\n\u001b[0;32m     62\u001b[0m     \u001b[38;5;28;01mraise\u001b[39;00m e\n\u001b[1;32m---> 64\u001b[0m \u001b[38;5;28mself\u001b[39m\u001b[38;5;241m.\u001b[39m_world \u001b[38;5;241m=\u001b[39m \u001b[43mWorld\u001b[49m\u001b[43m(\u001b[49m\u001b[43mphysics_dt\u001b[49m\u001b[38;5;241;43m=\u001b[39;49m\u001b[38;5;28;43mself\u001b[39;49m\u001b[38;5;241;43m.\u001b[39;49m\u001b[43mphy_dt\u001b[49m\u001b[43m,\u001b[49m\u001b[43m \u001b[49m\u001b[43mrendering_dt\u001b[49m\u001b[38;5;241;43m=\u001b[39;49m\u001b[38;5;28;43mself\u001b[39;49m\u001b[38;5;241;43m.\u001b[39;49m\u001b[43mrender_dt\u001b[49m\u001b[43m,\u001b[49m\u001b[43m \u001b[49m\u001b[43mstage_units_in_meters\u001b[49m\u001b[38;5;241;43m=\u001b[39;49m\u001b[38;5;241;43m1.0\u001b[39;49m\u001b[43m)\u001b[49m\n\u001b[0;32m     65\u001b[0m \u001b[38;5;28mself\u001b[39m\u001b[38;5;241m.\u001b[39m_scene \u001b[38;5;241m=\u001b[39m \u001b[38;5;28mself\u001b[39m\u001b[38;5;241m.\u001b[39m_world\u001b[38;5;241m.\u001b[39mscene\n\u001b[0;32m     66\u001b[0m \u001b[38;5;28mself\u001b[39m\u001b[38;5;241m.\u001b[39m_stage \u001b[38;5;241m=\u001b[39m \u001b[38;5;28mself\u001b[39m\u001b[38;5;241m.\u001b[39m_world\u001b[38;5;241m.\u001b[39mstage\n",
      "File \u001b[1;32md:\\Users\\10916\\anaconda3\\envs\\isaacsim\\lib\\site-packages\\lazyimport\\bzrlib_core.py:122\u001b[0m, in \u001b[0;36mScopeReplacer.__call__\u001b[1;34m(self, *args, **kwargs)\u001b[0m\n\u001b[0;32m    121\u001b[0m \u001b[38;5;28;01mdef\u001b[39;00m \u001b[38;5;21m__call__\u001b[39m(\u001b[38;5;28mself\u001b[39m, \u001b[38;5;241m*\u001b[39margs, \u001b[38;5;241m*\u001b[39m\u001b[38;5;241m*\u001b[39mkwargs):\n\u001b[1;32m--> 122\u001b[0m     obj \u001b[38;5;241m=\u001b[39m \u001b[38;5;28;43mobject\u001b[39;49m\u001b[38;5;241;43m.\u001b[39;49m\u001b[38;5;21;43m__getattribute__\u001b[39;49m\u001b[43m(\u001b[49m\u001b[38;5;28;43mself\u001b[39;49m\u001b[43m,\u001b[49m\u001b[43m \u001b[49m\u001b[38;5;124;43m'\u001b[39;49m\u001b[38;5;124;43m_resolve\u001b[39;49m\u001b[38;5;124;43m'\u001b[39;49m\u001b[43m)\u001b[49m\u001b[43m(\u001b[49m\u001b[43m)\u001b[49m\n\u001b[0;32m    123\u001b[0m     \u001b[38;5;28;01mreturn\u001b[39;00m obj(\u001b[38;5;241m*\u001b[39margs, \u001b[38;5;241m*\u001b[39m\u001b[38;5;241m*\u001b[39mkwargs)\n",
      "File \u001b[1;32md:\\Users\\10916\\anaconda3\\envs\\isaacsim\\lib\\site-packages\\lazyimport\\bzrlib_core.py:89\u001b[0m, in \u001b[0;36mScopeReplacer._resolve\u001b[1;34m(self)\u001b[0m\n\u001b[0;32m     87\u001b[0m factory \u001b[38;5;241m=\u001b[39m \u001b[38;5;28mobject\u001b[39m\u001b[38;5;241m.\u001b[39m\u001b[38;5;21m__getattribute__\u001b[39m(\u001b[38;5;28mself\u001b[39m, \u001b[38;5;124m'\u001b[39m\u001b[38;5;124m_factory\u001b[39m\u001b[38;5;124m'\u001b[39m)\n\u001b[0;32m     88\u001b[0m scope \u001b[38;5;241m=\u001b[39m \u001b[38;5;28mobject\u001b[39m\u001b[38;5;241m.\u001b[39m\u001b[38;5;21m__getattribute__\u001b[39m(\u001b[38;5;28mself\u001b[39m, \u001b[38;5;124m'\u001b[39m\u001b[38;5;124m_scope\u001b[39m\u001b[38;5;124m'\u001b[39m)\n\u001b[1;32m---> 89\u001b[0m obj \u001b[38;5;241m=\u001b[39m \u001b[43mfactory\u001b[49m\u001b[43m(\u001b[49m\u001b[38;5;28;43mself\u001b[39;49m\u001b[43m,\u001b[49m\u001b[43m \u001b[49m\u001b[43mscope\u001b[49m\u001b[43m,\u001b[49m\u001b[43m \u001b[49m\u001b[43mname\u001b[49m\u001b[43m)\u001b[49m\n\u001b[0;32m     90\u001b[0m \u001b[38;5;28;01mif\u001b[39;00m obj \u001b[38;5;129;01mis\u001b[39;00m \u001b[38;5;28mself\u001b[39m:\n\u001b[0;32m     91\u001b[0m     \u001b[38;5;28;01mraise\u001b[39;00m IllegalUseOfScopeReplacer(\n\u001b[0;32m     92\u001b[0m         name,\n\u001b[0;32m     93\u001b[0m         msg\u001b[38;5;241m=\u001b[39m\u001b[38;5;124m\"\u001b[39m\u001b[38;5;124mObject tried to replace itself, check it\u001b[39m\u001b[38;5;124m'\u001b[39m\u001b[38;5;124ms not using \u001b[39m\u001b[38;5;124m\"\u001b[39m\n\u001b[0;32m     94\u001b[0m             \u001b[38;5;124m\"\u001b[39m\u001b[38;5;124mits own scope.\u001b[39m\u001b[38;5;124m\"\u001b[39m)\n",
      "File \u001b[1;32md:\\Users\\10916\\anaconda3\\envs\\isaacsim\\lib\\site-packages\\lazyimport\\bzrlib_core.py:207\u001b[0m, in \u001b[0;36mImportReplacer._import\u001b[1;34m(self, scope, name)\u001b[0m\n\u001b[0;32m    205\u001b[0m module_python_path \u001b[38;5;241m=\u001b[39m \u001b[38;5;124m'\u001b[39m\u001b[38;5;124m.\u001b[39m\u001b[38;5;124m'\u001b[39m\u001b[38;5;241m.\u001b[39mjoin(module_path)\n\u001b[0;32m    206\u001b[0m \u001b[38;5;28;01mif\u001b[39;00m member \u001b[38;5;129;01mis\u001b[39;00m \u001b[38;5;129;01mnot\u001b[39;00m \u001b[38;5;28;01mNone\u001b[39;00m:\n\u001b[1;32m--> 207\u001b[0m     module \u001b[38;5;241m=\u001b[39m \u001b[38;5;28;43m__import__\u001b[39;49m\u001b[43m(\u001b[49m\n\u001b[0;32m    208\u001b[0m \u001b[43m        \u001b[49m\u001b[43mmodule_python_path\u001b[49m\u001b[43m,\u001b[49m\u001b[43m \u001b[49m\u001b[43mscope\u001b[49m\u001b[43m,\u001b[49m\u001b[43m \u001b[49m\u001b[43mscope\u001b[49m\u001b[43m,\u001b[49m\u001b[43m \u001b[49m\u001b[43m[\u001b[49m\u001b[43mmember\u001b[49m\u001b[43m]\u001b[49m\u001b[43m,\u001b[49m\u001b[43m \u001b[49m\u001b[43mlevel\u001b[49m\u001b[38;5;241;43m=\u001b[39;49m\u001b[38;5;241;43m0\u001b[39;49m\u001b[43m)\u001b[49m\n\u001b[0;32m    209\u001b[0m     \u001b[38;5;28;01mreturn\u001b[39;00m \u001b[38;5;28mgetattr\u001b[39m(module, member)\n\u001b[0;32m    210\u001b[0m \u001b[38;5;28;01melse\u001b[39;00m:\n",
      "\u001b[1;31mModuleNotFoundError\u001b[0m: No module named 'omni.isaac.core.worlds'"
     ]
    }
   ],
   "source": [
    "from simulator.core.configs import EnvConfig\n",
    "from simulator.core.envs import BaseEnv\n",
    "\n",
    "config_file= \"D:\\MMLM_Robot\\Grasp_Nav\\code\\EmbodiedAI\\simulator//tests//test_configs//test.yaml\"\n",
    "cfg = EnvConfig(config_file)\n",
    "print(cfg.config)\n",
    "env = BaseEnv(cfg)\n",
    "\n",
    "\n"
   ]
  },
  {
   "cell_type": "code",
   "execution_count": 27,
   "metadata": {},
   "outputs": [
    {
     "ename": "ModuleNotFoundError",
     "evalue": "No module named 'src'",
     "output_type": "error",
     "traceback": [
      "\u001b[1;31m---------------------------------------------------------------------------\u001b[0m",
      "\u001b[1;31mModuleNotFoundError\u001b[0m                       Traceback (most recent call last)",
      "Cell \u001b[1;32mIn[27], line 3\u001b[0m\n\u001b[0;32m      1\u001b[0m \u001b[38;5;28;01mimport\u001b[39;00m \u001b[38;5;21;01mos\u001b[39;00m\n\u001b[0;32m      2\u001b[0m os\u001b[38;5;241m.\u001b[39mchdir(\u001b[38;5;124m\"\u001b[39m\u001b[38;5;124mD:\u001b[39m\u001b[38;5;124m\\\u001b[39m\u001b[38;5;124mMMLM_Robot\u001b[39m\u001b[38;5;124m\\\u001b[39m\u001b[38;5;124mGrasp_Nav\u001b[39m\u001b[38;5;124m\\\u001b[39m\u001b[38;5;124mcode\u001b[39m\u001b[38;5;124m\\\u001b[39m\u001b[38;5;124mEmbodiedAI\u001b[39m\u001b[38;5;124m\\\u001b[39m\u001b[38;5;124msimulator\u001b[39m\u001b[38;5;124m\\\u001b[39m\u001b[38;5;124msrc\u001b[39m\u001b[38;5;124m\\\u001b[39m\u001b[38;5;124mconfigs\u001b[39m\u001b[38;5;124m\"\u001b[39m)\n\u001b[1;32m----> 3\u001b[0m \u001b[38;5;28;01mfrom\u001b[39;00m \u001b[38;5;21;01msrc\u001b[39;00m\u001b[38;5;21;01m.\u001b[39;00m\u001b[38;5;21;01mconfigs\u001b[39;00m \u001b[38;5;28;01mimport\u001b[39;00m \u001b[38;5;241m*\u001b[39m\n\u001b[0;32m      5\u001b[0m \u001b[38;5;28mprint\u001b[39m(Config())\n",
      "\u001b[1;31mModuleNotFoundError\u001b[0m: No module named 'src'"
     ]
    }
   ],
   "source": [
    "import os\n",
    "os.chdir(\"D:\\MMLM_Robot\\Grasp_Nav\\code\\EmbodiedAI\\simulator\\src\\configs\")\n",
    "from src.configs import *\n",
    "\n",
    "print(Config())"
   ]
  },
  {
   "cell_type": "code",
   "execution_count": 25,
   "metadata": {},
   "outputs": [
    {
     "name": "stdout",
     "output_type": "stream",
     "text": [
      "{'name': 'a', 'item': {'name': 'b'}}\n"
     ]
    }
   ],
   "source": [
    "from pydantic import BaseModel\n",
    "from typing import Optional\n",
    "class b(BaseModel):\n",
    "    name:str =\"b\"\n",
    "\n",
    "class a(BaseModel):\n",
    "    name: Optional[str]=\"a\"\n",
    "    item: Optional[b]=b(name=\"b\")\n",
    "\n",
    "\n",
    "a = a()\n",
    "print(a.dict())"
   ]
  }
 ],
 "metadata": {
  "kernelspec": {
   "display_name": "Python 3",
   "language": "python",
   "name": "python3"
  },
  "language_info": {
   "codemirror_mode": {
    "name": "ipython",
    "version": 3
   },
   "file_extension": ".py",
   "mimetype": "text/x-python",
   "name": "python",
   "nbconvert_exporter": "python",
   "pygments_lexer": "ipython3",
   "version": "3.10.14"
  }
 },
 "nbformat": 4,
 "nbformat_minor": 2
}
